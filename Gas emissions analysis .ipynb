{
 "cells": [
  {
   "cell_type": "code",
   "execution_count": 22,
   "metadata": {
    "ExecuteTime": {
     "end_time": "2019-09-25T15:58:56.408352Z",
     "start_time": "2019-09-25T15:58:55.746629Z"
    }
   },
   "outputs": [],
   "source": [
    "import pandas as pd\n",
    "import numpy as np \n",
    "import matplotlib.pyplot as plt"
   ]
  },
  {
   "cell_type": "code",
   "execution_count": 4,
   "metadata": {
    "ExecuteTime": {
     "end_time": "2019-09-25T15:49:15.924074Z",
     "start_time": "2019-09-25T15:49:15.877886Z"
    }
   },
   "outputs": [],
   "source": [
    "data = pd.read_csv('CAIT Country CO2 Emissions.csv', skiprows=1)"
   ]
  },
  {
   "cell_type": "code",
   "execution_count": 6,
   "metadata": {
    "ExecuteTime": {
     "end_time": "2019-09-25T15:52:09.011142Z",
     "start_time": "2019-09-25T15:52:08.997140Z"
    }
   },
   "outputs": [
    {
     "data": {
      "text/html": [
       "<div>\n",
       "<style scoped>\n",
       "    .dataframe tbody tr th:only-of-type {\n",
       "        vertical-align: middle;\n",
       "    }\n",
       "\n",
       "    .dataframe tbody tr th {\n",
       "        vertical-align: top;\n",
       "    }\n",
       "\n",
       "    .dataframe thead th {\n",
       "        text-align: right;\n",
       "    }\n",
       "</style>\n",
       "<table border=\"1\" class=\"dataframe\">\n",
       "  <thead>\n",
       "    <tr style=\"text-align: right;\">\n",
       "      <th></th>\n",
       "      <th>Country</th>\n",
       "      <th>Year</th>\n",
       "      <th>Total CO2 Emissions Excluding Land-Use Change and Forestry (MtCO2)</th>\n",
       "    </tr>\n",
       "  </thead>\n",
       "  <tbody>\n",
       "    <tr>\n",
       "      <td>0</td>\n",
       "      <td>Afghanistan</td>\n",
       "      <td>1850</td>\n",
       "      <td>NaN</td>\n",
       "    </tr>\n",
       "    <tr>\n",
       "      <td>1</td>\n",
       "      <td>Albania</td>\n",
       "      <td>1850</td>\n",
       "      <td>NaN</td>\n",
       "    </tr>\n",
       "    <tr>\n",
       "      <td>2</td>\n",
       "      <td>Algeria</td>\n",
       "      <td>1850</td>\n",
       "      <td>NaN</td>\n",
       "    </tr>\n",
       "    <tr>\n",
       "      <td>3</td>\n",
       "      <td>Angola</td>\n",
       "      <td>1850</td>\n",
       "      <td>NaN</td>\n",
       "    </tr>\n",
       "    <tr>\n",
       "      <td>4</td>\n",
       "      <td>Antigua &amp; Barbuda</td>\n",
       "      <td>1850</td>\n",
       "      <td>NaN</td>\n",
       "    </tr>\n",
       "  </tbody>\n",
       "</table>\n",
       "</div>"
      ],
      "text/plain": [
       "             Country  Year  \\\n",
       "0        Afghanistan  1850   \n",
       "1            Albania  1850   \n",
       "2            Algeria  1850   \n",
       "3             Angola  1850   \n",
       "4  Antigua & Barbuda  1850   \n",
       "\n",
       "   Total CO2 Emissions Excluding Land-Use Change and Forestry (MtCO2)  \n",
       "0                                                NaN                   \n",
       "1                                                NaN                   \n",
       "2                                                NaN                   \n",
       "3                                                NaN                   \n",
       "4                                                NaN                   "
      ]
     },
     "execution_count": 6,
     "metadata": {},
     "output_type": "execute_result"
    }
   ],
   "source": [
    "data.head()"
   ]
  },
  {
   "cell_type": "code",
   "execution_count": 9,
   "metadata": {
    "ExecuteTime": {
     "end_time": "2019-09-25T15:53:37.499841Z",
     "start_time": "2019-09-25T15:53:37.495838Z"
    }
   },
   "outputs": [],
   "source": [
    "data_per_country = data.groupby('Country').Year"
   ]
  },
  {
   "cell_type": "code",
   "execution_count": 13,
   "metadata": {
    "ExecuteTime": {
     "end_time": "2019-09-25T15:56:09.741013Z",
     "start_time": "2019-09-25T15:56:09.731015Z"
    }
   },
   "outputs": [
    {
     "data": {
      "text/plain": [
       "0              Afghanistan\n",
       "1                  Albania\n",
       "2                  Algeria\n",
       "3                   Angola\n",
       "4        Antigua & Barbuda\n",
       "               ...        \n",
       "30639              Vietnam\n",
       "30640                World\n",
       "30641                Yemen\n",
       "30642               Zambia\n",
       "30643             Zimbabwe\n",
       "Name: Country, Length: 30644, dtype: object"
      ]
     },
     "execution_count": 13,
     "metadata": {},
     "output_type": "execute_result"
    }
   ],
   "source": [
    "data.Country"
   ]
  },
  {
   "cell_type": "markdown",
   "metadata": {},
   "source": [
    "## World"
   ]
  },
  {
   "cell_type": "code",
   "execution_count": 34,
   "metadata": {
    "ExecuteTime": {
     "end_time": "2019-09-25T16:04:25.818175Z",
     "start_time": "2019-09-25T16:04:25.810176Z"
    }
   },
   "outputs": [],
   "source": [
    "data_world = data.loc[data.Country == 'World']"
   ]
  },
  {
   "cell_type": "code",
   "execution_count": 35,
   "metadata": {
    "ExecuteTime": {
     "end_time": "2019-09-25T16:04:26.004177Z",
     "start_time": "2019-09-25T16:04:25.988173Z"
    }
   },
   "outputs": [
    {
     "data": {
      "text/html": [
       "<div>\n",
       "<style scoped>\n",
       "    .dataframe tbody tr th:only-of-type {\n",
       "        vertical-align: middle;\n",
       "    }\n",
       "\n",
       "    .dataframe tbody tr th {\n",
       "        vertical-align: top;\n",
       "    }\n",
       "\n",
       "    .dataframe thead th {\n",
       "        text-align: right;\n",
       "    }\n",
       "</style>\n",
       "<table border=\"1\" class=\"dataframe\">\n",
       "  <thead>\n",
       "    <tr style=\"text-align: right;\">\n",
       "      <th></th>\n",
       "      <th>index</th>\n",
       "      <th>Country</th>\n",
       "      <th>Year</th>\n",
       "      <th>Total CO2 Emissions Excluding Land-Use Change and Forestry (MtCO2)</th>\n",
       "    </tr>\n",
       "  </thead>\n",
       "  <tbody>\n",
       "    <tr>\n",
       "      <td>0</td>\n",
       "      <td>184</td>\n",
       "      <td>World</td>\n",
       "      <td>1850</td>\n",
       "      <td>197.856</td>\n",
       "    </tr>\n",
       "    <tr>\n",
       "      <td>1</td>\n",
       "      <td>372</td>\n",
       "      <td>World</td>\n",
       "      <td>1851</td>\n",
       "      <td>197.856</td>\n",
       "    </tr>\n",
       "    <tr>\n",
       "      <td>2</td>\n",
       "      <td>560</td>\n",
       "      <td>World</td>\n",
       "      <td>1852</td>\n",
       "      <td>208.848</td>\n",
       "    </tr>\n",
       "    <tr>\n",
       "      <td>3</td>\n",
       "      <td>748</td>\n",
       "      <td>World</td>\n",
       "      <td>1853</td>\n",
       "      <td>216.176</td>\n",
       "    </tr>\n",
       "    <tr>\n",
       "      <td>4</td>\n",
       "      <td>936</td>\n",
       "      <td>World</td>\n",
       "      <td>1854</td>\n",
       "      <td>252.816</td>\n",
       "    </tr>\n",
       "  </tbody>\n",
       "</table>\n",
       "</div>"
      ],
      "text/plain": [
       "   index Country  Year  \\\n",
       "0    184   World  1850   \n",
       "1    372   World  1851   \n",
       "2    560   World  1852   \n",
       "3    748   World  1853   \n",
       "4    936   World  1854   \n",
       "\n",
       "   Total CO2 Emissions Excluding Land-Use Change and Forestry (MtCO2)  \n",
       "0                                            197.856                   \n",
       "1                                            197.856                   \n",
       "2                                            208.848                   \n",
       "3                                            216.176                   \n",
       "4                                            252.816                   "
      ]
     },
     "execution_count": 35,
     "metadata": {},
     "output_type": "execute_result"
    }
   ],
   "source": [
    "data_world = data_world.reset_index()\n",
    "data_world.head()"
   ]
  },
  {
   "cell_type": "code",
   "execution_count": 30,
   "metadata": {
    "ExecuteTime": {
     "end_time": "2019-09-25T16:00:41.521720Z",
     "start_time": "2019-09-25T16:00:41.299724Z"
    }
   },
   "outputs": [
    {
     "data": {
      "text/plain": [
       "[<matplotlib.lines.Line2D at 0x1fc274e90f0>]"
      ]
     },
     "execution_count": 30,
     "metadata": {},
     "output_type": "execute_result"
    },
    {
     "data": {
      "image/png": "[encoded data removed]",
      "text/plain": [
       "<Figure size 432x288 with 1 Axes>"
      ]
     },
     "metadata": {
      "needs_background": "light"
     },
     "output_type": "display_data"
    }
   ],
   "source": [
    "plt.plot(data_world.Year,data_world['Total CO2 Emissions Excluding Land-Use Change and Forestry (MtCO2)'], color='blue', marker='o', linestyle='dashed',\n",
    "...      linewidth=1, markersize=2)"
   ]
  },
  {
   "cell_type": "code",
   "execution_count": 24,
   "metadata": {
    "ExecuteTime": {
     "end_time": "2019-09-25T15:59:09.175236Z",
     "start_time": "2019-09-25T15:59:09.172237Z"
    }
   },
   "outputs": [],
   "source": [
    "plt.show()"
   ]
  },
  {
   "cell_type": "code",
   "execution_count": null,
   "metadata": {},
   "outputs": [],
   "source": []
  },
  {
   "cell_type": "code",
   "execution_count": null,
   "metadata": {},
   "outputs": [],
   "source": []
  },
  {
   "cell_type": "markdown",
   "metadata": {},
   "source": [
    "## France"
   ]
  },
  {
   "cell_type": "code",
   "execution_count": 36,
   "metadata": {
    "ExecuteTime": {
     "end_time": "2019-09-25T16:07:18.871253Z",
     "start_time": "2019-09-25T16:07:18.863239Z"
    }
   },
   "outputs": [],
   "source": [
    "data_france = data.loc[data.Country =='France']"
   ]
  },
  {
   "cell_type": "code",
   "execution_count": 41,
   "metadata": {
    "ExecuteTime": {
     "end_time": "2019-09-25T16:08:37.098906Z",
     "start_time": "2019-09-25T16:08:37.086909Z"
    }
   },
   "outputs": [
    {
     "data": {
      "text/plain": [
       "count    163.000000\n",
       "mean     211.391947\n",
       "std      139.693105\n",
       "min       19.617100\n",
       "25%       92.563600\n",
       "50%      184.189300\n",
       "75%      356.525300\n",
       "max      500.124500\n",
       "Name: Total CO2 Emissions Excluding Land-Use Change and Forestry (MtCO2), dtype: float64"
      ]
     },
     "execution_count": 41,
     "metadata": {},
     "output_type": "execute_result"
    }
   ],
   "source": [
    "data_france['Total CO2 Emissions Excluding Land-Use Change and Forestry (MtCO2)'].describe()"
   ]
  },
  {
   "cell_type": "code",
   "execution_count": null,
   "metadata": {},
   "outputs": [],
   "source": []
  }
 ],
 "metadata": {
  "kernelspec": {
   "display_name": "Python 3",
   "language": "python",
   "name": "python3"
  },
  "language_info": {
   "codemirror_mode": {
    "name": "ipython",
    "version": 3
   },
   "file_extension": ".py",
   "mimetype": "text/x-python",
   "name": "python",
   "nbconvert_exporter": "python",
   "pygments_lexer": "ipython3",
   "version": "3.6.8"
  },
  "toc": {
   "base_numbering": 1,
   "nav_menu": {},
   "number_sections": true,
   "sideBar": true,
   "skip_h1_title": false,
   "title_cell": "Table of Contents",
   "title_sidebar": "Contents",
   "toc_cell": false,
   "toc_position": {},
   "toc_section_display": true,
   "toc_window_display": false
  }
 },
 "nbformat": 4,
 "nbformat_minor": 2
}
